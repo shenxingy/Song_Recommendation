{
 "cells": [
  {
   "cell_type": "code",
   "execution_count": 25,
   "metadata": {},
   "outputs": [],
   "source": [
    "import pandas as pd\n",
    "import numpy as np\n",
    "from tqdm import tqdm\n",
    "import torch\n",
    "import shutil, os\n",
    "from torch.utils.data import Dataset, DataLoader\n",
    "from torch.utils.data.dataset import random_split"
   ]
  },
  {
   "cell_type": "markdown",
   "metadata": {},
   "source": [
    "# When model neeeds to be updated"
   ]
  },
  {
   "cell_type": "code",
   "execution_count": 26,
   "metadata": {},
   "outputs": [],
   "source": [
    "train_on_gpu = torch.cuda.is_available()"
   ]
  },
  {
   "cell_type": "code",
   "execution_count": 27,
   "metadata": {},
   "outputs": [],
   "source": [
    "playlists = pd.read_csv('./Dataset/2023_spotify_ds1.csv')\n",
    "playlists = playlists[['pid', 'track_name']]\n",
    "\n",
    "# get the new playlist from user\n",
    "playlist2 = pd.read_csv('./Dataset/2023_spotify_ds2.csv')\n",
    "playlist2 = playlist2[['pid', 'track_name']]\n",
    "lucky_pid = playlist2.pid.sample(1).values[0]\n",
    "new_playlist = playlist2[playlist2.pid == lucky_pid]\n",
    "\n",
    "# update the playlist\n",
    "playlists = pd.concat([playlists, new_playlist])"
   ]
  },
  {
   "cell_type": "code",
   "execution_count": 28,
   "metadata": {},
   "outputs": [],
   "source": [
    "num_epochs = 30\n",
    "learning_rate = 0.01\n",
    "batch_size = 128\n",
    "n_users = len(playlists.pid.unique())\n",
    "n_items = len(playlists.track_name.unique())\n",
    "n_factors = 20"
   ]
  },
  {
   "cell_type": "code",
   "execution_count": 29,
   "metadata": {},
   "outputs": [],
   "source": [
    "class MatrixFactorization(torch.nn.Module):\n",
    "    def __init__(self, n_users, n_items, n_factors=50):\n",
    "        super().__init__()\n",
    "        self.user_factors = torch.nn.Embedding(n_users, n_factors)\n",
    "        self.item_factors = torch.nn.Embedding(n_items, n_factors)\n",
    "        self.user_factors.weight.data.uniform_(0,0.05)\n",
    "        self.item_factors.weight.data.uniform_(0,0.05)\n",
    "        \n",
    "    def forward(self, user, item):\n",
    "        return (self.user_factors(user) * self.item_factors(item)).sum(1)\n",
    "    \n",
    "    def predict(self, user, item):\n",
    "        return self.forward(user, item)"
   ]
  },
  {
   "cell_type": "code",
   "execution_count": 30,
   "metadata": {},
   "outputs": [],
   "source": [
    "class Loader(Dataset):\n",
    "    def __init__(self, data):\n",
    "        self.data = data.copy()\n",
    "        \n",
    "        self.pid = self.data.pid.unique()\n",
    "        self.track_name = self.data.track_name.unique()\n",
    "        \n",
    "        # index\n",
    "        self.pid2idx = {o:i for i,o in enumerate(self.pid)}\n",
    "        self.track_name2idx = {o:i for i,o in enumerate(self.track_name)}\n",
    "        \n",
    "        # reverse index\n",
    "        self.idx2pid = {i:o for o,i in self.pid2idx.items()}\n",
    "        self.idx2track_name = {i:o for o,i in self.track_name2idx.items()}\n",
    "        \n",
    "        # update data\n",
    "        self.data.pid = self.data.pid.apply(lambda x: self.pid2idx[x])\n",
    "        self.data.track_name = self.data.track_name.apply(lambda x: self.track_name2idx[x])\n",
    "        \n",
    "        # keep only pid and track_name\n",
    "        self.x = self.data.values\n",
    "        self.y = [1 for _ in range(len(self.data))]\n",
    "        \n",
    "        self.x = torch.tensor(self.x)\n",
    "        self.y = torch.tensor(self.y).type(torch.float32)\n",
    "        \n",
    "    def __len__(self):\n",
    "        return len(self.data)\n",
    "    \n",
    "    def __getitem__(self, idx):\n",
    "        return self.x[idx], self.y[idx]"
   ]
  },
  {
   "cell_type": "code",
   "execution_count": 31,
   "metadata": {},
   "outputs": [
    {
     "name": "stderr",
     "output_type": "stream",
     "text": [
      "  3%|▎         | 1/30 [00:16<07:57, 16.46s/it]"
     ]
    },
    {
     "name": "stdout",
     "output_type": "stream",
     "text": [
      "epoch:   0 train_loss: 0.05970229 test_loss: 0.02624745\n"
     ]
    },
    {
     "name": "stderr",
     "output_type": "stream",
     "text": [
      "  7%|▋         | 2/30 [00:31<07:13, 15.48s/it]"
     ]
    },
    {
     "name": "stdout",
     "output_type": "stream",
     "text": [
      "epoch:   1 train_loss: 0.03117276 test_loss: 0.03481788\n"
     ]
    },
    {
     "name": "stderr",
     "output_type": "stream",
     "text": [
      " 10%|█         | 3/30 [00:49<07:32, 16.76s/it]"
     ]
    },
    {
     "name": "stdout",
     "output_type": "stream",
     "text": [
      "epoch:   2 train_loss: 0.03418233 test_loss: 0.03405706\n"
     ]
    },
    {
     "name": "stderr",
     "output_type": "stream",
     "text": [
      " 13%|█▎        | 4/30 [01:06<07:22, 17.00s/it]"
     ]
    },
    {
     "name": "stdout",
     "output_type": "stream",
     "text": [
      "epoch:   3 train_loss: 0.03195950 test_loss: 0.03100812\n"
     ]
    },
    {
     "name": "stderr",
     "output_type": "stream",
     "text": [
      " 17%|█▋        | 5/30 [01:23<07:03, 16.94s/it]"
     ]
    },
    {
     "name": "stdout",
     "output_type": "stream",
     "text": [
      "epoch:   4 train_loss: 0.03216381 test_loss: 0.03303843\n"
     ]
    },
    {
     "name": "stderr",
     "output_type": "stream",
     "text": [
      " 20%|██        | 6/30 [01:41<06:50, 17.09s/it]"
     ]
    },
    {
     "name": "stdout",
     "output_type": "stream",
     "text": [
      "epoch:   5 train_loss: 0.03160948 test_loss: 0.03260681\n"
     ]
    },
    {
     "name": "stderr",
     "output_type": "stream",
     "text": [
      " 23%|██▎       | 7/30 [01:56<06:16, 16.37s/it]"
     ]
    },
    {
     "name": "stdout",
     "output_type": "stream",
     "text": [
      "epoch:   6 train_loss: 0.03145268 test_loss: 0.03239728\n"
     ]
    },
    {
     "name": "stderr",
     "output_type": "stream",
     "text": [
      " 27%|██▋       | 8/30 [02:09<05:41, 15.52s/it]"
     ]
    },
    {
     "name": "stdout",
     "output_type": "stream",
     "text": [
      "epoch:   7 train_loss: 0.02940691 test_loss: 0.02952498\n"
     ]
    },
    {
     "name": "stderr",
     "output_type": "stream",
     "text": [
      " 30%|███       | 9/30 [02:24<05:23, 15.39s/it]"
     ]
    },
    {
     "name": "stdout",
     "output_type": "stream",
     "text": [
      "epoch:   8 train_loss: 0.02681306 test_loss: 0.02285092\n"
     ]
    },
    {
     "name": "stderr",
     "output_type": "stream",
     "text": [
      " 33%|███▎      | 10/30 [02:40<05:12, 15.61s/it]"
     ]
    },
    {
     "name": "stdout",
     "output_type": "stream",
     "text": [
      "epoch:   9 train_loss: 0.02262822 test_loss: 0.02114899\n"
     ]
    },
    {
     "name": "stderr",
     "output_type": "stream",
     "text": [
      " 37%|███▋      | 11/30 [02:54<04:44, 14.96s/it]"
     ]
    },
    {
     "name": "stdout",
     "output_type": "stream",
     "text": [
      "epoch:  10 train_loss: 0.01869848 test_loss: 0.01791058\n"
     ]
    },
    {
     "name": "stderr",
     "output_type": "stream",
     "text": [
      " 40%|████      | 12/30 [03:04<04:02, 13.48s/it]"
     ]
    },
    {
     "name": "stdout",
     "output_type": "stream",
     "text": [
      "epoch:  11 train_loss: 0.01612739 test_loss: 0.01528524\n"
     ]
    },
    {
     "name": "stderr",
     "output_type": "stream",
     "text": [
      " 43%|████▎     | 13/30 [03:19<03:59, 14.07s/it]"
     ]
    },
    {
     "name": "stdout",
     "output_type": "stream",
     "text": [
      "epoch:  12 train_loss: 0.01333613 test_loss: 0.01279632\n"
     ]
    },
    {
     "name": "stderr",
     "output_type": "stream",
     "text": [
      " 47%|████▋     | 14/30 [03:36<03:58, 14.90s/it]"
     ]
    },
    {
     "name": "stdout",
     "output_type": "stream",
     "text": [
      "epoch:  13 train_loss: 0.01169346 test_loss: 0.01161106\n"
     ]
    },
    {
     "name": "stderr",
     "output_type": "stream",
     "text": [
      " 50%|█████     | 15/30 [03:51<03:44, 14.95s/it]"
     ]
    },
    {
     "name": "stdout",
     "output_type": "stream",
     "text": [
      "epoch:  14 train_loss: 0.01058498 test_loss: 0.01190538\n"
     ]
    },
    {
     "name": "stderr",
     "output_type": "stream",
     "text": [
      " 53%|█████▎    | 16/30 [04:06<03:28, 14.87s/it]"
     ]
    },
    {
     "name": "stdout",
     "output_type": "stream",
     "text": [
      "epoch:  15 train_loss: 0.01436208 test_loss: 0.01471592\n"
     ]
    },
    {
     "name": "stderr",
     "output_type": "stream",
     "text": [
      " 57%|█████▋    | 17/30 [04:19<03:04, 14.22s/it]"
     ]
    },
    {
     "name": "stdout",
     "output_type": "stream",
     "text": [
      "epoch:  16 train_loss: 0.00829584 test_loss: 0.00415314\n"
     ]
    },
    {
     "name": "stderr",
     "output_type": "stream",
     "text": [
      " 60%|██████    | 18/30 [04:32<02:47, 13.98s/it]"
     ]
    },
    {
     "name": "stdout",
     "output_type": "stream",
     "text": [
      "epoch:  17 train_loss: 0.02983732 test_loss: 0.05705914\n"
     ]
    },
    {
     "name": "stderr",
     "output_type": "stream",
     "text": [
      " 63%|██████▎   | 19/30 [04:48<02:38, 14.44s/it]"
     ]
    },
    {
     "name": "stdout",
     "output_type": "stream",
     "text": [
      "epoch:  18 train_loss: 0.01486895 test_loss: 0.00233417\n"
     ]
    },
    {
     "name": "stderr",
     "output_type": "stream",
     "text": [
      " 67%|██████▋   | 20/30 [05:03<02:26, 14.67s/it]"
     ]
    },
    {
     "name": "stdout",
     "output_type": "stream",
     "text": [
      "epoch:  19 train_loss: 0.00145605 test_loss: 0.00180212\n"
     ]
    },
    {
     "name": "stderr",
     "output_type": "stream",
     "text": [
      " 70%|███████   | 21/30 [05:20<02:18, 15.34s/it]"
     ]
    },
    {
     "name": "stdout",
     "output_type": "stream",
     "text": [
      "epoch:  20 train_loss: 0.04157042 test_loss: 0.04429296\n"
     ]
    },
    {
     "name": "stderr",
     "output_type": "stream",
     "text": [
      " 73%|███████▎  | 22/30 [05:33<01:57, 14.74s/it]"
     ]
    },
    {
     "name": "stdout",
     "output_type": "stream",
     "text": [
      "epoch:  21 train_loss: 0.01129247 test_loss: 0.00190986\n"
     ]
    },
    {
     "name": "stderr",
     "output_type": "stream",
     "text": [
      " 77%|███████▋  | 23/30 [05:49<01:45, 15.09s/it]"
     ]
    },
    {
     "name": "stdout",
     "output_type": "stream",
     "text": [
      "epoch:  22 train_loss: 0.00122622 test_loss: 0.00168523\n"
     ]
    },
    {
     "name": "stderr",
     "output_type": "stream",
     "text": [
      " 80%|████████  | 24/30 [06:06<01:34, 15.77s/it]"
     ]
    },
    {
     "name": "stdout",
     "output_type": "stream",
     "text": [
      "epoch:  23 train_loss: 0.03570627 test_loss: 0.05990652\n"
     ]
    },
    {
     "name": "stderr",
     "output_type": "stream",
     "text": [
      " 83%|████████▎ | 25/30 [06:22<01:18, 15.68s/it]"
     ]
    },
    {
     "name": "stdout",
     "output_type": "stream",
     "text": [
      "epoch:  24 train_loss: 0.01457878 test_loss: 0.00225846\n"
     ]
    },
    {
     "name": "stderr",
     "output_type": "stream",
     "text": [
      " 87%|████████▋ | 26/30 [06:38<01:03, 15.79s/it]"
     ]
    },
    {
     "name": "stdout",
     "output_type": "stream",
     "text": [
      "epoch:  25 train_loss: 0.00130370 test_loss: 0.00135421\n"
     ]
    },
    {
     "name": "stderr",
     "output_type": "stream",
     "text": [
      " 90%|█████████ | 27/30 [06:53<00:46, 15.49s/it]"
     ]
    },
    {
     "name": "stdout",
     "output_type": "stream",
     "text": [
      "epoch:  26 train_loss: 0.03141873 test_loss: 0.07658777\n"
     ]
    },
    {
     "name": "stderr",
     "output_type": "stream",
     "text": [
      " 93%|█████████▎| 28/30 [07:07<00:30, 15.11s/it]"
     ]
    },
    {
     "name": "stdout",
     "output_type": "stream",
     "text": [
      "epoch:  27 train_loss: 0.01831306 test_loss: 0.00244593\n"
     ]
    },
    {
     "name": "stderr",
     "output_type": "stream",
     "text": [
      " 97%|█████████▋| 29/30 [07:24<00:15, 15.73s/it]"
     ]
    },
    {
     "name": "stdout",
     "output_type": "stream",
     "text": [
      "epoch:  28 train_loss: 0.00136562 test_loss: 0.00122738\n"
     ]
    },
    {
     "name": "stderr",
     "output_type": "stream",
     "text": [
      "100%|██████████| 30/30 [07:41<00:00, 15.40s/it]"
     ]
    },
    {
     "name": "stdout",
     "output_type": "stream",
     "text": [
      "epoch:  29 train_loss: 0.02067213 test_loss: 0.09622075\n"
     ]
    },
    {
     "name": "stderr",
     "output_type": "stream",
     "text": [
      "\n"
     ]
    }
   ],
   "source": [
    "shutil.rmtree('./model', ignore_errors=True)\n",
    "os.makedirs('./model')\n",
    "model = MatrixFactorization(n_users, n_items, n_factors)\n",
    "if train_on_gpu:\n",
    "    model = model.cuda()\n",
    "criterion = torch.nn.MSELoss()\n",
    "optimizer = torch.optim.Adam(model.parameters(), lr=learning_rate)\n",
    "\n",
    "playlists = Loader(playlists)\n",
    "train_size = int(0.8 * len(playlists))\n",
    "test_size = len(playlists) - train_size\n",
    "\n",
    "train_set, test_set = random_split(playlists, [train_size, test_size])\n",
    "train_loader = DataLoader(train_set, batch_size=batch_size, shuffle=True)\n",
    "test_loader = DataLoader(test_set, batch_size=batch_size, shuffle=True)\n",
    "\n",
    "average_train_losses = []\n",
    "average_test_losses = []\n",
    "for i in tqdm(range(num_epochs)):\n",
    "    train_losses = []\n",
    "    test_losses = []\n",
    "    \n",
    "    model.train()\n",
    "    for x, y in train_loader:\n",
    "        if train_on_gpu:\n",
    "            x = x.cuda()\n",
    "            y = y.cuda()\n",
    "        optimizer.zero_grad()\n",
    "        output = model(x[:, 0], x[:, 1])\n",
    "        loss = criterion(output, y)\n",
    "        train_losses.append(loss.item())\n",
    "        loss.backward()\n",
    "        optimizer.step()\n",
    "    \n",
    "    model.eval()\n",
    "    with torch.no_grad():\n",
    "        for x, y in test_loader:\n",
    "            x = x.cuda()\n",
    "            y = y.cuda()\n",
    "            output = model(x[:, 0], x[:, 1])\n",
    "            loss = criterion(output, y)\n",
    "            test_losses.append(loss.item())\n",
    "    \n",
    "    # print losses\n",
    "    avg_train_loss = sum(train_losses) / len(train_losses)\n",
    "    avg_test_loss = sum(test_losses) / len(test_losses)\n",
    "    average_train_losses.append(avg_train_loss)\n",
    "    average_test_losses.append(avg_test_loss)\n",
    "    print(f'epoch: {i:3} train_loss: {avg_train_loss:10.8f} test_loss: {avg_test_loss:10.8f}')\n",
    "    \n",
    "    # save the dict of the track_name and track_name embedding to pickle file with epoch number\n",
    "    track_name_embedding = model.item_factors.weight.data.cpu().numpy()\n",
    "    track_name_embedding = pd.DataFrame(track_name_embedding)\n",
    "    track_name_embedding.index = playlists.idx2track_name.values()\n",
    "    track_name_embedding.to_pickle(f'./model/track_name_embedding_{i}.pkl')"
   ]
  },
  {
   "cell_type": "code",
   "execution_count": 32,
   "metadata": {},
   "outputs": [
    {
     "name": "stdout",
     "output_type": "stream",
     "text": [
      "best epoch: 28, test_loss: 0.0012273848960397853\n"
     ]
    }
   ],
   "source": [
    "# find out the best model\n",
    "best_epoch = np.argmin(average_test_losses)\n",
    "print(f'best epoch: {best_epoch}, test_loss: {average_test_losses[best_epoch]}')"
   ]
  },
  {
   "cell_type": "code",
   "execution_count": 33,
   "metadata": {},
   "outputs": [
    {
     "data": {
      "image/png": "[encoded data removed]",
      "text/plain": [
       "<Figure size 800x600 with 1 Axes>"
      ]
     },
     "metadata": {},
     "output_type": "display_data"
    }
   ],
   "source": [
    "# plot losses\n",
    "import matplotlib.pyplot as plt\n",
    "plt.figure(figsize=(8, 6))\n",
    "x = np.arange(len(average_train_losses))\n",
    "plt.plot(x, average_train_losses, label='train loss')\n",
    "plt.plot(x, average_test_losses, label='test loss')\n",
    "plt.xticks(x, x)\n",
    "plt.xlabel('epoch')\n",
    "plt.ylabel('loss')\n",
    "plt.legend()\n",
    "plt.show()"
   ]
  },
  {
   "cell_type": "code",
   "execution_count": 34,
   "metadata": {},
   "outputs": [],
   "source": [
    "# remove the other model\n",
    "for i in range(num_epochs):\n",
    "    if i != best_epoch:\n",
    "        os.remove(f'./model/track_name_embedding_{i}.pkl')\n",
    "        \n",
    "# rename the best model\n",
    "os.rename(f'./model/track_name_embedding_{best_epoch}.pkl', './model/track_name_embedding.pkl')"
   ]
  },
  {
   "cell_type": "markdown",
   "metadata": {},
   "source": [
    "# When model does not need to be updated, directly get the recommendation."
   ]
  },
  {
   "cell_type": "code",
   "execution_count": 75,
   "metadata": {},
   "outputs": [],
   "source": [
    "# get the new playlist from user\n",
    "playlist2 = pd.read_csv('./Dataset/2023_spotify_ds2.csv')\n",
    "playlist2 = playlist2[['pid', 'track_name']]\n",
    "lucky_pid = playlist2.pid.sample(1).values[0]\n",
    "new_playlist = playlist2[playlist2.pid == lucky_pid]"
   ]
  },
  {
   "cell_type": "code",
   "execution_count": 76,
   "metadata": {},
   "outputs": [
    {
     "name": "stdout",
     "output_type": "stream",
     "text": [
      "valid track_name takes up 98.13%\n"
     ]
    }
   ],
   "source": [
    "# load the embedding pickle file\n",
    "track_name_embedding = pd.read_pickle('./model/track_name_embedding.pkl')\n",
    "candidate_track_name = track_name_embedding.index\n",
    "\n",
    "valid_track_name_count = 0\n",
    "valid_track_name = []\n",
    "for i in new_playlist['track_name']:\n",
    "    if i in track_name_embedding.index:\n",
    "        valid_track_name.append(i)\n",
    "        try:\n",
    "            candidate_track_name = candidate_track_name.drop(i)\n",
    "        except:    \n",
    "            pass\n",
    "\n",
    "print(f'valid track_name takes up {len(valid_track_name) / len(new_playlist) * 100:.2f}%')"
   ]
  },
  {
   "cell_type": "code",
   "execution_count": 77,
   "metadata": {},
   "outputs": [],
   "source": [
    "# Calculate the mean of the new playlist embedding for the seen track_name\n",
    "valid_new_playlist = new_playlist[new_playlist.track_name.isin(valid_track_name)]\n",
    "new_playlist_embedding = track_name_embedding.loc[valid_new_playlist.track_name].mean()\n",
    "\n",
    "candidate_track_name_embedding = track_name_embedding.loc[candidate_track_name]"
   ]
  },
  {
   "cell_type": "code",
   "execution_count": 78,
   "metadata": {},
   "outputs": [
    {
     "name": "stdout",
     "output_type": "stream",
     "text": [
      "Index(['Everytime We Touch - Radio Edit',\n",
      "       'Rocket Man (I Think It's Going To Be A Long Long Time)',\n",
      "       'Lay It All On Me (feat. Ed Sheeran)', 'Walk Like an Egyptian',\n",
      "       'Tipsy - Club Mix', 'Lighters', 'Someone Like You', 'Colder Weather',\n",
      "       'I Hold On', 'Everybody Wants To Rule The World'],\n",
      "      dtype='object')\n"
     ]
    }
   ],
   "source": [
    "# calculate the cosine similarity\n",
    "from sklearn.metrics.pairwise import cosine_similarity\n",
    "similarity = cosine_similarity(candidate_track_name_embedding, new_playlist_embedding.values.reshape(1, -1))\n",
    "similarity = similarity.reshape(-1)\n",
    "\n",
    "top_10_idx = similarity.argsort()[-10:][::-1]\n",
    "top_10_track_name = track_name_embedding.iloc[top_10_idx].index\n",
    "print(top_10_track_name)"
   ]
  },
  {
   "cell_type": "code",
   "execution_count": null,
   "metadata": {},
   "outputs": [],
   "source": []
  }
 ],
 "metadata": {
  "kernelspec": {
   "display_name": "CS401",
   "language": "python",
   "name": "python3"
  },
  "language_info": {
   "codemirror_mode": {
    "name": "ipython",
    "version": 3
   },
   "file_extension": ".py",
   "mimetype": "text/x-python",
   "name": "python",
   "nbconvert_exporter": "python",
   "pygments_lexer": "ipython3",
   "version": "3.11.4"
  }
 },
 "nbformat": 4,
 "nbformat_minor": 2
}
